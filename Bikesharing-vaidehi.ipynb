{
 "cells": [
  {
   "cell_type": "markdown",
   "id": "0efb9e9f",
   "metadata": {},
   "source": [
    "## Multiple Linear Regression \n",
    "### Bike sharing assignement\n",
    "\n",
    "#### Problem Statement:\n",
    "Build a multiple linear regression model for the prediction of demand for shared bikes.\n",
    "The company wants to know:\n",
    "\n",
    "- Which variables are significant in predicting the demand for shared bikes.\n",
    "- How well those variables describe the bike demands"
   ]
  },
  {
   "cell_type": "markdown",
   "id": "690db534",
   "metadata": {},
   "source": [
    "## PRELIMINARY \n",
    "### PERFORM EDA AND DATA UNDERSTANDING "
   ]
  },
  {
   "cell_type": "markdown",
   "id": "356dd3c3",
   "metadata": {},
   "source": [
    "#### IGNORE WARNING"
   ]
  },
  {
   "cell_type": "code",
   "execution_count": 1,
   "id": "0546e5e3",
   "metadata": {},
   "outputs": [],
   "source": [
    "import warnings\n",
    "warnings.filterwarnings(action='ignore')"
   ]
  },
  {
   "cell_type": "markdown",
   "id": "3f7f838d",
   "metadata": {},
   "source": [
    "#### IMPORTING LIBRARIES"
   ]
  },
  {
   "cell_type": "code",
   "execution_count": 2,
   "id": "5bdcf083",
   "metadata": {},
   "outputs": [],
   "source": [
    "import numpy as np\n",
    "import pandas as pd\n",
    "import matplotlib.pyplot as plt\n",
    "import seaborn as sns"
   ]
  },
  {
   "cell_type": "markdown",
   "id": "d1841d97",
   "metadata": {},
   "source": [
    "#### READING THE DATA CSV"
   ]
  },
  {
   "cell_type": "code",
   "execution_count": 3,
   "id": "b082a6af",
   "metadata": {},
   "outputs": [
    {
     "data": {
      "text/html": [
       "<div>\n",
       "<style scoped>\n",
       "    .dataframe tbody tr th:only-of-type {\n",
       "        vertical-align: middle;\n",
       "    }\n",
       "\n",
       "    .dataframe tbody tr th {\n",
       "        vertical-align: top;\n",
       "    }\n",
       "\n",
       "    .dataframe thead th {\n",
       "        text-align: right;\n",
       "    }\n",
       "</style>\n",
       "<table border=\"1\" class=\"dataframe\">\n",
       "  <thead>\n",
       "    <tr style=\"text-align: right;\">\n",
       "      <th></th>\n",
       "      <th>instant</th>\n",
       "      <th>dteday</th>\n",
       "      <th>season</th>\n",
       "      <th>yr</th>\n",
       "      <th>mnth</th>\n",
       "      <th>holiday</th>\n",
       "      <th>weekday</th>\n",
       "      <th>workingday</th>\n",
       "      <th>weathersit</th>\n",
       "      <th>temp</th>\n",
       "      <th>atemp</th>\n",
       "      <th>hum</th>\n",
       "      <th>windspeed</th>\n",
       "      <th>casual</th>\n",
       "      <th>registered</th>\n",
       "      <th>cnt</th>\n",
       "    </tr>\n",
       "  </thead>\n",
       "  <tbody>\n",
       "    <tr>\n",
       "      <th>0</th>\n",
       "      <td>1</td>\n",
       "      <td>01-01-2018</td>\n",
       "      <td>1</td>\n",
       "      <td>0</td>\n",
       "      <td>1</td>\n",
       "      <td>0</td>\n",
       "      <td>6</td>\n",
       "      <td>0</td>\n",
       "      <td>2</td>\n",
       "      <td>14.110847</td>\n",
       "      <td>18.18125</td>\n",
       "      <td>80.5833</td>\n",
       "      <td>10.749882</td>\n",
       "      <td>331</td>\n",
       "      <td>654</td>\n",
       "      <td>985</td>\n",
       "    </tr>\n",
       "    <tr>\n",
       "      <th>1</th>\n",
       "      <td>2</td>\n",
       "      <td>02-01-2018</td>\n",
       "      <td>1</td>\n",
       "      <td>0</td>\n",
       "      <td>1</td>\n",
       "      <td>0</td>\n",
       "      <td>0</td>\n",
       "      <td>0</td>\n",
       "      <td>2</td>\n",
       "      <td>14.902598</td>\n",
       "      <td>17.68695</td>\n",
       "      <td>69.6087</td>\n",
       "      <td>16.652113</td>\n",
       "      <td>131</td>\n",
       "      <td>670</td>\n",
       "      <td>801</td>\n",
       "    </tr>\n",
       "    <tr>\n",
       "      <th>2</th>\n",
       "      <td>3</td>\n",
       "      <td>03-01-2018</td>\n",
       "      <td>1</td>\n",
       "      <td>0</td>\n",
       "      <td>1</td>\n",
       "      <td>0</td>\n",
       "      <td>1</td>\n",
       "      <td>1</td>\n",
       "      <td>1</td>\n",
       "      <td>8.050924</td>\n",
       "      <td>9.47025</td>\n",
       "      <td>43.7273</td>\n",
       "      <td>16.636703</td>\n",
       "      <td>120</td>\n",
       "      <td>1229</td>\n",
       "      <td>1349</td>\n",
       "    </tr>\n",
       "    <tr>\n",
       "      <th>3</th>\n",
       "      <td>4</td>\n",
       "      <td>04-01-2018</td>\n",
       "      <td>1</td>\n",
       "      <td>0</td>\n",
       "      <td>1</td>\n",
       "      <td>0</td>\n",
       "      <td>2</td>\n",
       "      <td>1</td>\n",
       "      <td>1</td>\n",
       "      <td>8.200000</td>\n",
       "      <td>10.60610</td>\n",
       "      <td>59.0435</td>\n",
       "      <td>10.739832</td>\n",
       "      <td>108</td>\n",
       "      <td>1454</td>\n",
       "      <td>1562</td>\n",
       "    </tr>\n",
       "    <tr>\n",
       "      <th>4</th>\n",
       "      <td>5</td>\n",
       "      <td>05-01-2018</td>\n",
       "      <td>1</td>\n",
       "      <td>0</td>\n",
       "      <td>1</td>\n",
       "      <td>0</td>\n",
       "      <td>3</td>\n",
       "      <td>1</td>\n",
       "      <td>1</td>\n",
       "      <td>9.305237</td>\n",
       "      <td>11.46350</td>\n",
       "      <td>43.6957</td>\n",
       "      <td>12.522300</td>\n",
       "      <td>82</td>\n",
       "      <td>1518</td>\n",
       "      <td>1600</td>\n",
       "    </tr>\n",
       "  </tbody>\n",
       "</table>\n",
       "</div>"
      ],
      "text/plain": [
       "   instant      dteday  season  yr  mnth  holiday  weekday  workingday  \\\n",
       "0        1  01-01-2018       1   0     1        0        6           0   \n",
       "1        2  02-01-2018       1   0     1        0        0           0   \n",
       "2        3  03-01-2018       1   0     1        0        1           1   \n",
       "3        4  04-01-2018       1   0     1        0        2           1   \n",
       "4        5  05-01-2018       1   0     1        0        3           1   \n",
       "\n",
       "   weathersit       temp     atemp      hum  windspeed  casual  registered  \\\n",
       "0           2  14.110847  18.18125  80.5833  10.749882     331         654   \n",
       "1           2  14.902598  17.68695  69.6087  16.652113     131         670   \n",
       "2           1   8.050924   9.47025  43.7273  16.636703     120        1229   \n",
       "3           1   8.200000  10.60610  59.0435  10.739832     108        1454   \n",
       "4           1   9.305237  11.46350  43.6957  12.522300      82        1518   \n",
       "\n",
       "    cnt  \n",
       "0   985  \n",
       "1   801  \n",
       "2  1349  \n",
       "3  1562  \n",
       "4  1600  "
      ]
     },
     "execution_count": 3,
     "metadata": {},
     "output_type": "execute_result"
    }
   ],
   "source": [
    "data = pd.read_csv(r'day.csv')\n",
    "pd.set_option('max_columns', None)\n",
    "data.head()"
   ]
  },
  {
   "cell_type": "markdown",
   "id": "6d5e76c0",
   "metadata": {},
   "source": [
    "#### NUMBER OF ROWS AND COLUMNS IN DATASET"
   ]
  },
  {
   "cell_type": "code",
   "execution_count": 4,
   "id": "c0c46d8d",
   "metadata": {},
   "outputs": [
    {
     "name": "stdout",
     "output_type": "stream",
     "text": [
      "The dataset has 730 rows and 16 columns\n"
     ]
    }
   ],
   "source": [
    "rows, columns = data.shape\n",
    "print(f'The dataset has {rows} rows and {columns} columns')"
   ]
  },
  {
   "cell_type": "markdown",
   "id": "db10d6b2",
   "metadata": {},
   "source": [
    "#### BASIC INFO ON THE DATASET "
   ]
  },
  {
   "cell_type": "code",
   "execution_count": 5,
   "id": "882ca08d",
   "metadata": {},
   "outputs": [
    {
     "name": "stdout",
     "output_type": "stream",
     "text": [
      "<class 'pandas.core.frame.DataFrame'>\n",
      "RangeIndex: 730 entries, 0 to 729\n",
      "Data columns (total 16 columns):\n",
      " #   Column      Non-Null Count  Dtype  \n",
      "---  ------      --------------  -----  \n",
      " 0   instant     730 non-null    int64  \n",
      " 1   dteday      730 non-null    object \n",
      " 2   season      730 non-null    int64  \n",
      " 3   yr          730 non-null    int64  \n",
      " 4   mnth        730 non-null    int64  \n",
      " 5   holiday     730 non-null    int64  \n",
      " 6   weekday     730 non-null    int64  \n",
      " 7   workingday  730 non-null    int64  \n",
      " 8   weathersit  730 non-null    int64  \n",
      " 9   temp        730 non-null    float64\n",
      " 10  atemp       730 non-null    float64\n",
      " 11  hum         730 non-null    float64\n",
      " 12  windspeed   730 non-null    float64\n",
      " 13  casual      730 non-null    int64  \n",
      " 14  registered  730 non-null    int64  \n",
      " 15  cnt         730 non-null    int64  \n",
      "dtypes: float64(4), int64(11), object(1)\n",
      "memory usage: 91.4+ KB\n"
     ]
    }
   ],
   "source": [
    "data.info()"
   ]
  },
  {
   "cell_type": "code",
   "execution_count": 6,
   "id": "4409d6f5",
   "metadata": {},
   "outputs": [
    {
     "name": "stdout",
     "output_type": "stream",
     "text": [
      "There are no duplicates in the dataset.\n"
     ]
    }
   ],
   "source": [
    "# Looking for data duplicates\n",
    "row, column = data[data.duplicated()].shape\n",
    "print('There are no duplicates in the dataset.' if row==0 else f'There are {row} duplicates in the dataset.')"
   ]
  },
  {
   "cell_type": "markdown",
   "id": "2c176350",
   "metadata": {},
   "source": [
    "#### NUMBER OF FEATURES AND PERCENTAGE OF NULL VALUES"
   ]
  },
  {
   "cell_type": "code",
   "execution_count": 7,
   "id": "652016ee",
   "metadata": {},
   "outputs": [
    {
     "name": "stdout",
     "output_type": "stream",
     "text": [
      "NUMBER OF NUMERICAL AND CATEGORICAL FEATURES:\n",
      "The dataset has 15 numerical features and 1 categorical features\n",
      "\n",
      "PERCENTAGE MISSING VALUES AFTER FILLING:\n",
      "There is no missing values in the dataset\n"
     ]
    }
   ],
   "source": [
    "# number of numerical and categorical features\n",
    "num, obj = 0, 0\n",
    "for feature in data:\n",
    "    if data[feature].dtype == 'O':\n",
    "        obj += 1\n",
    "    else:\n",
    "        num += 1\n",
    "print('NUMBER OF NUMERICAL AND CATEGORICAL FEATURES:')\n",
    "print(f'The dataset has {num} numerical features and {obj} categorical features')\n",
    "\n",
    "# Percentage of missing values\n",
    "print('\\nPERCENTAGE MISSING VALUES AFTER FILLING:')\n",
    "c=0\n",
    "for feature in data:\n",
    "    if data[feature].isnull().sum()!=0:\n",
    "        print(f\"The feature '{feature}' has {np.round((data[feature].isnull().mean()*100),2)}% missing values\")\n",
    "    else:\n",
    "        c+=1\n",
    "if c == len(data.columns):print('There is no missing values in the dataset')"
   ]
  },
  {
   "cell_type": "markdown",
   "id": "049a6a38",
   "metadata": {},
   "source": [
    "#### INFERENCE ON DROP OF IRRELAVANT COLUMNS"
   ]
  },
  {
   "cell_type": "markdown",
   "id": "fcd9e32e",
   "metadata": {},
   "source": [
    "\n",
    "\n",
    "\n",
    "- The feature <b>'instant'</b> has no significance in prediction of demand of bikes.\n",
    "- The feature <b>'dteday'</b> has significance but the same column can be derived from following features 'season\tyr\tmnth\tweekday\t'.\n",
    "- The feature <b>casual & registered</b> this feature has no much significance as we are interested in total count of bikes (ie demand) not by category wise and moreover combination of casual & registered is target 'cnt'. \n",
    "\n",
    "\n",
    "\n",
    "Hence above highlighted  columns will be dropped."
   ]
  },
  {
   "cell_type": "code",
   "execution_count": 8,
   "id": "ef656f2e",
   "metadata": {},
   "outputs": [],
   "source": [
    "## dropping the decided columns \n",
    "del data['instant']\n",
    "del data['dteday']\n",
    "del data['casual']\n",
    "del data['registered']"
   ]
  },
  {
   "cell_type": "code",
   "execution_count": 9,
   "id": "b9f1250e",
   "metadata": {},
   "outputs": [
    {
     "name": "stdout",
     "output_type": "stream",
     "text": [
      "The dataset has 730 rows and 12 columns\n"
     ]
    }
   ],
   "source": [
    "rows, columns = data.shape\n",
    "print(f'The dataset has {rows} rows and {columns} columns')"
   ]
  },
  {
   "cell_type": "code",
   "execution_count": 10,
   "id": "cc982301",
   "metadata": {},
   "outputs": [
    {
     "data": {
      "image/png": "[encoded data removed]",
      "text/plain": [
       "<Figure size 1872x2160 with 12 Axes>"
      ]
     },
     "metadata": {},
     "output_type": "display_data"
    }
   ],
   "source": [
    "#Creating subplots\n",
    "fig = plt.figure(figsize=(26,30))\n",
    "spec = fig.add_gridspec(6,4)\n",
    "spec.update(wspace=0.2, hspace=0.3)\n",
    "sec_01 = fig.add_subplot(spec[0,0])\n",
    "sec_02 = fig.add_subplot(spec[0,1])\n",
    "sec_03 = fig.add_subplot(spec[0,2])\n",
    "sec_04 = fig.add_subplot(spec[0,3])\n",
    "sec_05 = fig.add_subplot(spec[1,0])\n",
    "sec_06 = fig.add_subplot(spec[1,1])\n",
    "sec_07 = fig.add_subplot(spec[1,2])\n",
    "sec_08 = fig.add_subplot(spec[1,3])\n",
    "sec_09 = fig.add_subplot(spec[2,0])\n",
    "sec_10 = fig.add_subplot(spec[2,1])\n",
    "sec_11 = fig.add_subplot(spec[2,2])\n",
    "sec_12 = fig.add_subplot(spec[2,3])\n",
    "\n",
    "# Adding color preference\n",
    "bg_color = '#ffd9d9'\n",
    "for selection in [fig, sec_01, sec_02, sec_03, sec_04, sec_05, sec_06, sec_07, sec_08,\n",
    "                  sec_09, sec_10, sec_11, sec_12]:\n",
    "    selection.set_facecolor(bg_color)\n",
    "\n",
    "# Plotting the graph\n",
    "sec = [sec_01, sec_02, sec_03, sec_04, sec_05, sec_06, sec_07, sec_08, sec_09, sec_10,sec_11, \n",
    "       sec_12]\n",
    "cnt = 0\n",
    "for feature in data:\n",
    "    if data[feature].dtype=='O' or feature=='cnt':\n",
    "        continue\n",
    "    else:\n",
    "        sns.boxplot(x=data[feature], ax=sec[cnt], color='green')\n",
    "        cnt+=1\n",
    "# Removing axis and spines\n",
    "for sec in [sec_12]:\n",
    "    for location in ['top', 'right', 'bottom','left']:\n",
    "        sec.spines[location].set_visible(False)\n",
    "        sec.xaxis.set_visible(False)\n",
    "        sec.yaxis.set_visible(False)\n"
   ]
  },
  {
   "cell_type": "markdown",
   "id": "26298660",
   "metadata": {},
   "source": [
    "###### We can see clear outliers on feature 'holiday' ,'hum','windspeed'"
   ]
  },
  {
   "cell_type": "code",
   "execution_count": 11,
   "id": "faef43b3",
   "metadata": {},
   "outputs": [
    {
     "data": {
      "text/plain": [
       "Text(0.5, 1.0, 'DISTRIBUTION BEFORE OUTLIER REMOVAL - HOLIDAY')"
      ]
     },
     "execution_count": 11,
     "metadata": {},
     "output_type": "execute_result"
    },
    {
     "data": {
      "image/png": "[encoded data removed]",
      "text/plain": [
       "<Figure size 1440x864 with 3 Axes>"
      ]
     },
     "metadata": {
      "needs_background": "light"
     },
     "output_type": "display_data"
    }
   ],
   "source": [
    "# Removing the data above 99% in upper fence of annual income\n",
    "\n",
    "# Distribution plot before outlier removal\n",
    "plt.figure(figsize=(20,12))\n",
    "plt.subplot(2,2,1)\n",
    "ax = sns.distplot(data['hum'], color='black')\n",
    "ax.set_title('DISTRIBUTION BEFORE OUTLIER REMOVAL - HUM ')\n",
    "\n",
    "plt.subplot(2,2,2)\n",
    "ax = sns.distplot(data['windspeed'], color='black')\n",
    "ax.set_title('DISTRIBUTION BEFORE OUTLIER REMOVAL - WINDSPEED')\n",
    "\n",
    "\n",
    "plt.subplot(2,2,3)\n",
    "ax = sns.distplot(data['holiday'], color='black')\n",
    "ax.set_title('DISTRIBUTION BEFORE OUTLIER REMOVAL - HOLIDAY')"
   ]
  },
  {
   "cell_type": "markdown",
   "id": "0b7ad335",
   "metadata": {},
   "source": [
    "###### We can see 'windspeed' and 'holiday' is right skewed and 'hum' is left skewed"
   ]
  },
  {
   "cell_type": "markdown",
   "id": "74d14819",
   "metadata": {},
   "source": [
    "#### OUTLIER TRATMENT"
   ]
  },
  {
   "cell_type": "code",
   "execution_count": 12,
   "id": "e911002e",
   "metadata": {},
   "outputs": [],
   "source": [
    "outlier_feature_moretha2=['hum','windspeed']\n",
    "outlier_feature_lesstha2=['holiday']   #less than 2 values its better we take different approach\n",
    "for feature in outlier_feature_moretha2:\n",
    "    if data[feature].dtype!='O' and len(data[feature].unique())>2:\n",
    "        lower_quartile = data[feature].quantile(0.25)\n",
    "        upper_quartile = data[feature].quantile(0.75)\n",
    "        IQR = upper_quartile - lower_quartile\n",
    "        lower_fence = lower_quartile - (1.5*IQR)\n",
    "        upper_fence = upper_quartile + (1.5*IQR)\n",
    "        \n",
    "        data[feature] = np.where(data[feature]>upper_fence, \n",
    "                                upper_fence, \n",
    "                                data[feature])\n",
    "        \n",
    "        data[feature] = np.where(data[feature]<lower_fence,\n",
    "                               lower_fence,\n",
    "                               data[feature])\n",
    "for feature in outlier_feature_lesstha2:\n",
    "    if data[feature].dtype!='O' and len(data[feature].unique())<=2:\n",
    "        data[feature] = data[feature].mode()"
   ]
  },
  {
   "cell_type": "code",
   "execution_count": 13,
   "id": "f36b5918",
   "metadata": {},
   "outputs": [
    {
     "data": {
      "text/plain": [
       "Text(0.5, 1.0, 'DISTRIBUTION AFTER OUTLIER REMOVAL - HOLIDAY')"
      ]
     },
     "execution_count": 13,
     "metadata": {},
     "output_type": "execute_result"
    },
    {
     "data": {
      "image/png": "[encoded data removed]",
      "text/plain": [
       "<Figure size 1440x864 with 3 Axes>"
      ]
     },
     "metadata": {
      "needs_background": "light"
     },
     "output_type": "display_data"
    }
   ],
   "source": [
    "\n",
    "plt.figure(figsize=(20,12))\n",
    "plt.subplot(2,2,1)\n",
    "ax = sns.distplot(data['hum'], color='black')\n",
    "ax.set_title('DISTRIBUTION AFTER OUTLIER REMOVAL - HUM ')\n",
    "\n",
    "plt.subplot(2,2,2)\n",
    "ax = sns.distplot(data['windspeed'], color='black')\n",
    "ax.set_title('DISTRIBUTION AFTER OUTLIER REMOVAL - WINDSPEED')\n",
    "\n",
    "\n",
    "plt.subplot(2,2,3)\n",
    "ax = sns.distplot(data['holiday'], color='black')\n",
    "ax.set_title('DISTRIBUTION AFTER OUTLIER REMOVAL - HOLIDAY')"
   ]
  },
  {
   "cell_type": "code",
   "execution_count": 14,
   "id": "8df0238e",
   "metadata": {},
   "outputs": [
    {
     "data": {
      "image/png": "[encoded data removed]",
      "text/plain": [
       "<Figure size 1872x2160 with 12 Axes>"
      ]
     },
     "metadata": {},
     "output_type": "display_data"
    }
   ],
   "source": [
    "#Creating subplots\n",
    "fig = plt.figure(figsize=(26,30))\n",
    "spec = fig.add_gridspec(6,4)\n",
    "spec.update(wspace=0.2, hspace=0.3)\n",
    "sec_01 = fig.add_subplot(spec[0,0])\n",
    "sec_02 = fig.add_subplot(spec[0,1])\n",
    "sec_03 = fig.add_subplot(spec[0,2])\n",
    "sec_04 = fig.add_subplot(spec[0,3])\n",
    "sec_05 = fig.add_subplot(spec[1,0])\n",
    "sec_06 = fig.add_subplot(spec[1,1])\n",
    "sec_07 = fig.add_subplot(spec[1,2])\n",
    "sec_08 = fig.add_subplot(spec[1,3])\n",
    "sec_09 = fig.add_subplot(spec[2,0])\n",
    "sec_10 = fig.add_subplot(spec[2,1])\n",
    "sec_11 = fig.add_subplot(spec[2,2])\n",
    "sec_12 = fig.add_subplot(spec[2,3])\n",
    "\n",
    "# Adding color preference\n",
    "bg_color = '#ffd9d9'\n",
    "for selection in [fig, sec_01, sec_02, sec_03, sec_04, sec_05, sec_06, sec_07, sec_08,\n",
    "                  sec_09, sec_10, sec_11, sec_12]:\n",
    "    selection.set_facecolor(bg_color)\n",
    "\n",
    "# Plotting the graph\n",
    "sec = [sec_01, sec_02, sec_03, sec_04, sec_05, sec_06, sec_07, sec_08, sec_09, sec_10,sec_11, \n",
    "       sec_12]\n",
    "cnt = 0\n",
    "for feature in data:\n",
    "    if data[feature].dtype=='O' or feature=='cnt':\n",
    "        continue\n",
    "    else:\n",
    "        sns.boxplot(x=data[feature], ax=sec[cnt], color='green')\n",
    "        cnt+=1\n",
    "# Removing axis and spines\n",
    "for sec in [sec_12]:\n",
    "    for location in ['top', 'right', 'bottom','left']:\n",
    "        sec.spines[location].set_visible(False)\n",
    "        sec.xaxis.set_visible(False)\n",
    "        sec.yaxis.set_visible(False)\n"
   ]
  },
  {
   "cell_type": "markdown",
   "id": "48920e96",
   "metadata": {},
   "source": [
    "###### As shown there are NO OUTLIERS"
   ]
  },
  {
   "cell_type": "markdown",
   "id": "8b8da97f",
   "metadata": {},
   "source": [
    "#### CHECK THE NUMBER OF UNIQUE VALUES \n",
    "We are checking unique values as we found that the data type of our features are numerical .But we need to identify which among them is continuous numerical feature as we can not apply Multiple Linear Regression on categorical features."
   ]
  },
  {
   "cell_type": "code",
   "execution_count": 15,
   "id": "3e912934",
   "metadata": {},
   "outputs": [
    {
     "data": {
      "text/plain": [
       "season          4\n",
       "yr              2\n",
       "mnth           12\n",
       "holiday         1\n",
       "weekday         7\n",
       "workingday      2\n",
       "weathersit      3\n",
       "temp          498\n",
       "atemp         689\n",
       "hum           593\n",
       "windspeed     637\n",
       "cnt           695\n",
       "dtype: int64"
      ]
     },
     "execution_count": 15,
     "metadata": {},
     "output_type": "execute_result"
    }
   ],
   "source": [
    "data.nunique()"
   ]
  },
  {
   "cell_type": "markdown",
   "id": "94a64b6d",
   "metadata": {},
   "source": [
    "We see that feature <b>holiday</b> after outlier treatment has only 1 unique value.Hence we will delete the feature as it will have no significance over model building "
   ]
  },
  {
   "cell_type": "code",
   "execution_count": 16,
   "id": "4a61d3ed",
   "metadata": {},
   "outputs": [],
   "source": [
    "## removing feature holiday \n",
    "del data['holiday']"
   ]
  },
  {
   "cell_type": "code",
   "execution_count": 17,
   "id": "334fc96f",
   "metadata": {},
   "outputs": [
    {
     "name": "stdout",
     "output_type": "stream",
     "text": [
      "The dataset has 730 rows and 11 columns including target variable \n",
      "The target variable is cnt\n"
     ]
    }
   ],
   "source": [
    "rows, columns = data.shape\n",
    "print(f'The dataset has {rows} rows and {columns} columns including target variable ')\n",
    "\n",
    "\n",
    "print(f'The target variable is {data.columns[-1]}')"
   ]
  },
  {
   "cell_type": "code",
   "execution_count": 18,
   "id": "14fada9d",
   "metadata": {},
   "outputs": [
    {
     "name": "stdout",
     "output_type": "stream",
     "text": [
      "['season', 'yr', 'mnth', 'weekday', 'workingday', 'weathersit'] are categorical features\n",
      "['temp', 'atemp', 'hum', 'windspeed'] are numerical features\n"
     ]
    }
   ],
   "source": [
    "likely_cat = {}\n",
    "categorical_feature=[]\n",
    "numerical_feature=[]\n",
    "for var in data.columns:\n",
    "    likely_cat[var] = 1.*data[var].nunique()/data[var].count() < 0.05\n",
    "for key,value in likely_cat.items():\n",
    "    if value == True:\n",
    "        if key != 'cnt':  ##exclude target variable \n",
    "            categorical_feature.append(key)\n",
    "    else:\n",
    "        if key != 'cnt':  ###exclude target variable \n",
    "            numerical_feature.append(key)\n",
    "print(f'{categorical_feature} are categorical features')\n",
    "print(f'{numerical_feature} are numerical features')\n"
   ]
  },
  {
   "cell_type": "code",
   "execution_count": 19,
   "id": "0c6f01c5",
   "metadata": {},
   "outputs": [
    {
     "data": {
      "text/html": [
       "<div>\n",
       "<style scoped>\n",
       "    .dataframe tbody tr th:only-of-type {\n",
       "        vertical-align: middle;\n",
       "    }\n",
       "\n",
       "    .dataframe tbody tr th {\n",
       "        vertical-align: top;\n",
       "    }\n",
       "\n",
       "    .dataframe thead th {\n",
       "        text-align: right;\n",
       "    }\n",
       "</style>\n",
       "<table border=\"1\" class=\"dataframe\">\n",
       "  <thead>\n",
       "    <tr style=\"text-align: right;\">\n",
       "      <th></th>\n",
       "      <th>season</th>\n",
       "      <th>yr</th>\n",
       "      <th>mnth</th>\n",
       "      <th>weekday</th>\n",
       "      <th>workingday</th>\n",
       "      <th>weathersit</th>\n",
       "      <th>temp</th>\n",
       "      <th>atemp</th>\n",
       "      <th>hum</th>\n",
       "      <th>windspeed</th>\n",
       "      <th>cnt</th>\n",
       "    </tr>\n",
       "  </thead>\n",
       "  <tbody>\n",
       "    <tr>\n",
       "      <th>0</th>\n",
       "      <td>spring</td>\n",
       "      <td>2018</td>\n",
       "      <td>jan</td>\n",
       "      <td>sat</td>\n",
       "      <td>no</td>\n",
       "      <td>moderate</td>\n",
       "      <td>14.110847</td>\n",
       "      <td>18.18125</td>\n",
       "      <td>80.5833</td>\n",
       "      <td>10.749882</td>\n",
       "      <td>985</td>\n",
       "    </tr>\n",
       "    <tr>\n",
       "      <th>1</th>\n",
       "      <td>spring</td>\n",
       "      <td>2018</td>\n",
       "      <td>jan</td>\n",
       "      <td>sun</td>\n",
       "      <td>no</td>\n",
       "      <td>moderate</td>\n",
       "      <td>14.902598</td>\n",
       "      <td>17.68695</td>\n",
       "      <td>69.6087</td>\n",
       "      <td>16.652113</td>\n",
       "      <td>801</td>\n",
       "    </tr>\n",
       "    <tr>\n",
       "      <th>2</th>\n",
       "      <td>spring</td>\n",
       "      <td>2018</td>\n",
       "      <td>jan</td>\n",
       "      <td>mon</td>\n",
       "      <td>yes</td>\n",
       "      <td>good</td>\n",
       "      <td>8.050924</td>\n",
       "      <td>9.47025</td>\n",
       "      <td>43.7273</td>\n",
       "      <td>16.636703</td>\n",
       "      <td>1349</td>\n",
       "    </tr>\n",
       "    <tr>\n",
       "      <th>3</th>\n",
       "      <td>spring</td>\n",
       "      <td>2018</td>\n",
       "      <td>jan</td>\n",
       "      <td>tue</td>\n",
       "      <td>yes</td>\n",
       "      <td>good</td>\n",
       "      <td>8.200000</td>\n",
       "      <td>10.60610</td>\n",
       "      <td>59.0435</td>\n",
       "      <td>10.739832</td>\n",
       "      <td>1562</td>\n",
       "    </tr>\n",
       "    <tr>\n",
       "      <th>4</th>\n",
       "      <td>spring</td>\n",
       "      <td>2018</td>\n",
       "      <td>jan</td>\n",
       "      <td>wed</td>\n",
       "      <td>yes</td>\n",
       "      <td>good</td>\n",
       "      <td>9.305237</td>\n",
       "      <td>11.46350</td>\n",
       "      <td>43.6957</td>\n",
       "      <td>12.522300</td>\n",
       "      <td>1600</td>\n",
       "    </tr>\n",
       "  </tbody>\n",
       "</table>\n",
       "</div>"
      ],
      "text/plain": [
       "   season    yr mnth weekday workingday weathersit       temp     atemp  \\\n",
       "0  spring  2018  jan     sat         no   moderate  14.110847  18.18125   \n",
       "1  spring  2018  jan     sun         no   moderate  14.902598  17.68695   \n",
       "2  spring  2018  jan     mon        yes       good   8.050924   9.47025   \n",
       "3  spring  2018  jan     tue        yes       good   8.200000  10.60610   \n",
       "4  spring  2018  jan     wed        yes       good   9.305237  11.46350   \n",
       "\n",
       "       hum  windspeed   cnt  \n",
       "0  80.5833  10.749882   985  \n",
       "1  69.6087  16.652113   801  \n",
       "2  43.7273  16.636703  1349  \n",
       "3  59.0435  10.739832  1562  \n",
       "4  43.6957  12.522300  1600  "
      ]
     },
     "execution_count": 19,
     "metadata": {},
     "output_type": "execute_result"
    }
   ],
   "source": [
    "# Convert to 'category' data type\n",
    "\n",
    "data['season']=data['season'].astype('category')\n",
    "data['yr']=data['yr'].astype('category')\n",
    "data['mnth']=data['mnth'].astype('category')\n",
    "data['weekday']=data['weekday'].astype('category')\n",
    "data['workingday']=data['workingday'].astype('category')\n",
    "data['weathersit']=data['weathersit'].astype('category')\n",
    "\n",
    "data.season.replace({1:\"spring\", 2:\"summer\", 3:\"fall\", 4:\"winter\"},inplace = True)\n",
    "data.yr.replace({1:\"2019\", 0:\"2018\"},inplace = True)\n",
    "data.mnth.replace({1: 'jan',2: 'feb',3: 'mar',4: 'apr',5: 'may',6: 'jun',\n",
    "                  7: 'jul',8: 'aug',9: 'sept',10: 'oct',11: 'nov',12: 'dec'},inplace = True)\n",
    "data.weekday.replace({0: 'sun',1: 'mon',2: 'tue',3: 'wed',4: 'thu',5: 'fri',6: 'sat'},inplace = True)\n",
    "data.workingday.replace({1: 'yes',0:\"no\"},inplace = True)\n",
    "data.weathersit.replace({1:'good',2:'moderate',3:'bad',4:'severe'},inplace = True)\n",
    "\n",
    "\n",
    "\n",
    "\n",
    "data.head()"
   ]
  },
  {
   "cell_type": "markdown",
   "id": "923db997",
   "metadata": {},
   "source": [
    "### DATA TRANSFORMATION AND SCALING AND TRAIN TEST SPLIT "
   ]
  },
  {
   "cell_type": "code",
   "execution_count": 20,
   "id": "5a8996d0",
   "metadata": {},
   "outputs": [
    {
     "name": "stdout",
     "output_type": "stream",
     "text": [
      "<class 'pandas.core.frame.DataFrame'>\n",
      "RangeIndex: 730 entries, 0 to 729\n",
      "Data columns (total 29 columns):\n",
      " #   Column               Non-Null Count  Dtype  \n",
      "---  ------               --------------  -----  \n",
      " 0   temp                 730 non-null    float64\n",
      " 1   atemp                730 non-null    float64\n",
      " 2   hum                  730 non-null    float64\n",
      " 3   windspeed            730 non-null    float64\n",
      " 4   cnt                  730 non-null    int64  \n",
      " 5   season_spring        730 non-null    uint8  \n",
      " 6   season_summer        730 non-null    uint8  \n",
      " 7   season_winter        730 non-null    uint8  \n",
      " 8   yr_2019              730 non-null    uint8  \n",
      " 9   mnth_aug             730 non-null    uint8  \n",
      " 10  mnth_dec             730 non-null    uint8  \n",
      " 11  mnth_feb             730 non-null    uint8  \n",
      " 12  mnth_jan             730 non-null    uint8  \n",
      " 13  mnth_jul             730 non-null    uint8  \n",
      " 14  mnth_jun             730 non-null    uint8  \n",
      " 15  mnth_mar             730 non-null    uint8  \n",
      " 16  mnth_may             730 non-null    uint8  \n",
      " 17  mnth_nov             730 non-null    uint8  \n",
      " 18  mnth_oct             730 non-null    uint8  \n",
      " 19  mnth_sept            730 non-null    uint8  \n",
      " 20  weekday_mon          730 non-null    uint8  \n",
      " 21  weekday_sat          730 non-null    uint8  \n",
      " 22  weekday_sun          730 non-null    uint8  \n",
      " 23  weekday_thu          730 non-null    uint8  \n",
      " 24  weekday_tue          730 non-null    uint8  \n",
      " 25  weekday_wed          730 non-null    uint8  \n",
      " 26  workingday_yes       730 non-null    uint8  \n",
      " 27  weathersit_good      730 non-null    uint8  \n",
      " 28  weathersit_moderate  730 non-null    uint8  \n",
      "dtypes: float64(4), int64(1), uint8(24)\n",
      "memory usage: 45.8 KB\n"
     ]
    }
   ],
   "source": [
    "data = pd.get_dummies(data, drop_first=True)\n",
    "data.info()"
   ]
  },
  {
   "cell_type": "code",
   "execution_count": 21,
   "id": "32fde3ed",
   "metadata": {},
   "outputs": [
    {
     "name": "stdout",
     "output_type": "stream",
     "text": [
      "The encoded feature dataset has 730 rows and 29 columns\n"
     ]
    }
   ],
   "source": [
    "#After doing the encoding \n",
    "\n",
    "rows, columns = data.shape\n",
    "print(f'The encoded feature dataset has {rows} rows and {columns} columns')"
   ]
  },
  {
   "cell_type": "markdown",
   "id": "78c07394",
   "metadata": {},
   "source": [
    "#### SPLITING DATASET "
   ]
  },
  {
   "cell_type": "code",
   "execution_count": 22,
   "id": "e745bf42",
   "metadata": {},
   "outputs": [],
   "source": [
    "from sklearn.model_selection import train_test_split\n",
    "\n",
    "# We should specify 'random_state' so that the train and test data set always have the same rows, respectively\n",
    "\n",
    "np.random.seed(0)\n",
    "data_train, data_test = train_test_split(data, train_size = 0.70, test_size = 0.30, random_state = 333)"
   ]
  },
  {
   "cell_type": "code",
   "execution_count": 23,
   "id": "b0627abf",
   "metadata": {},
   "outputs": [
    {
     "name": "stdout",
     "output_type": "stream",
     "text": [
      "The encoded feature dataset has 510 rows and 29 columns\n",
      "The encoded feature dataset has 219 rows and 29 columns\n"
     ]
    }
   ],
   "source": [
    "##test and train shape check \n",
    "rows, columns = data_train.shape\n",
    "print(f'The encoded feature dataset has {rows} rows and {columns} columns')\n",
    "rows, columns = data_test.shape\n",
    "print(f'The encoded feature dataset has {rows} rows and {columns} columns')"
   ]
  },
  {
   "cell_type": "markdown",
   "id": "348fd643",
   "metadata": {},
   "source": [
    "#### RESCALING THE DATASET"
   ]
  },
  {
   "cell_type": "code",
   "execution_count": null,
   "id": "89bb6a33",
   "metadata": {},
   "outputs": [],
   "source": []
  }
 ],
 "metadata": {
  "kernelspec": {
   "display_name": "Python 3",
   "language": "python",
   "name": "python3"
  },
  "language_info": {
   "codemirror_mode": {
    "name": "ipython",
    "version": 3
   },
   "file_extension": ".py",
   "mimetype": "text/x-python",
   "name": "python",
   "nbconvert_exporter": "python",
   "pygments_lexer": "ipython3",
   "version": "3.8.8"
  }
 },
 "nbformat": 4,
 "nbformat_minor": 5
}
