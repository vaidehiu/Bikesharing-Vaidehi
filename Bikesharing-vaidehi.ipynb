{
 "cells": [
  {
   "cell_type": "markdown",
   "id": "c20e60c9",
   "metadata": {},
   "source": [
    "## Multiple Linear Regression \n",
    "### Bike sharing assignment\n",
    "\n",
    "#### Problem Statement:\n",
    "Build a multiple linear regression model for the prediction of demand for shared bikes.\n",
    "The company wants to know:\n",
    "\n",
    "- Which variables are significant in predicting the demand for shared bikes.\n",
    "- How well those variables describe the bike demands"
   ]
  },
  {
   "cell_type": "markdown",
   "id": "35e1ea06",
   "metadata": {},
   "source": [
    "## PRELIMINARY \n",
    "### PERFORM EDA AND DATA UNDERSTANDING "
   ]
  },
  {
   "cell_type": "markdown",
   "id": "356dd3c3",
   "metadata": {},
   "source": [
    "#### IGNORE WARNING"
   ]
  },
  {
   "cell_type": "code",
   "execution_count": 1,
   "id": "0546e5e3",
   "metadata": {},
   "outputs": [],
   "source": [
    "import warnings\n",
    "warnings.filterwarnings(action='ignore')"
   ]
  },
  {
   "cell_type": "markdown",
   "id": "3f7f838d",
   "metadata": {},
   "source": [
    "#### IMPORTING LIBRARIES"
   ]
  },
  {
   "cell_type": "code",
   "execution_count": 2,
   "id": "5bdcf083",
   "metadata": {},
   "outputs": [],
   "source": [
    "import numpy as np\n",
    "import pandas as pd\n",
    "import matplotlib.pyplot as plt\n",
    "import seaborn as sns\n",
    "from sklearn.linear_model import LinearRegression\n",
    "from sklearn.feature_selection import RFE\n",
    "from sklearn.model_selection import train_test_split\n",
    "from sklearn.metrics import r2_score\n",
    "from sklearn.preprocessing import MinMaxScaler\n",
    "import statsmodels.api as sm\n",
    "from statsmodels.stats.outliers_influence import variance_inflation_factor"
   ]
  },
  {
   "cell_type": "markdown",
   "id": "d1841d97",
   "metadata": {},
   "source": [
    "#### READING THE DATA CSV"
   ]
  },
  {
   "cell_type": "code",
   "execution_count": 3,
   "id": "b082a6af",
   "metadata": {},
   "outputs": [
    {
     "data": {
      "text/html": [
       "<div>\n",
       "<style scoped>\n",
       "    .dataframe tbody tr th:only-of-type {\n",
       "        vertical-align: middle;\n",
       "    }\n",
       "\n",
       "    .dataframe tbody tr th {\n",
       "        vertical-align: top;\n",
       "    }\n",
       "\n",
       "    .dataframe thead th {\n",
       "        text-align: right;\n",
       "    }\n",
       "</style>\n",
       "<table border=\"1\" class=\"dataframe\">\n",
       "  <thead>\n",
       "    <tr style=\"text-align: right;\">\n",
       "      <th></th>\n",
       "      <th>instant</th>\n",
       "      <th>dteday</th>\n",
       "      <th>season</th>\n",
       "      <th>yr</th>\n",
       "      <th>mnth</th>\n",
       "      <th>holiday</th>\n",
       "      <th>weekday</th>\n",
       "      <th>workingday</th>\n",
       "      <th>weathersit</th>\n",
       "      <th>temp</th>\n",
       "      <th>atemp</th>\n",
       "      <th>hum</th>\n",
       "      <th>windspeed</th>\n",
       "      <th>casual</th>\n",
       "      <th>registered</th>\n",
       "      <th>cnt</th>\n",
       "    </tr>\n",
       "  </thead>\n",
       "  <tbody>\n",
       "    <tr>\n",
       "      <th>0</th>\n",
       "      <td>1</td>\n",
       "      <td>01-01-2018</td>\n",
       "      <td>1</td>\n",
       "      <td>0</td>\n",
       "      <td>1</td>\n",
       "      <td>0</td>\n",
       "      <td>6</td>\n",
       "      <td>0</td>\n",
       "      <td>2</td>\n",
       "      <td>14.110847</td>\n",
       "      <td>18.18125</td>\n",
       "      <td>80.5833</td>\n",
       "      <td>10.749882</td>\n",
       "      <td>331</td>\n",
       "      <td>654</td>\n",
       "      <td>985</td>\n",
       "    </tr>\n",
       "    <tr>\n",
       "      <th>1</th>\n",
       "      <td>2</td>\n",
       "      <td>02-01-2018</td>\n",
       "      <td>1</td>\n",
       "      <td>0</td>\n",
       "      <td>1</td>\n",
       "      <td>0</td>\n",
       "      <td>0</td>\n",
       "      <td>0</td>\n",
       "      <td>2</td>\n",
       "      <td>14.902598</td>\n",
       "      <td>17.68695</td>\n",
       "      <td>69.6087</td>\n",
       "      <td>16.652113</td>\n",
       "      <td>131</td>\n",
       "      <td>670</td>\n",
       "      <td>801</td>\n",
       "    </tr>\n",
       "    <tr>\n",
       "      <th>2</th>\n",
       "      <td>3</td>\n",
       "      <td>03-01-2018</td>\n",
       "      <td>1</td>\n",
       "      <td>0</td>\n",
       "      <td>1</td>\n",
       "      <td>0</td>\n",
       "      <td>1</td>\n",
       "      <td>1</td>\n",
       "      <td>1</td>\n",
       "      <td>8.050924</td>\n",
       "      <td>9.47025</td>\n",
       "      <td>43.7273</td>\n",
       "      <td>16.636703</td>\n",
       "      <td>120</td>\n",
       "      <td>1229</td>\n",
       "      <td>1349</td>\n",
       "    </tr>\n",
       "    <tr>\n",
       "      <th>3</th>\n",
       "      <td>4</td>\n",
       "      <td>04-01-2018</td>\n",
       "      <td>1</td>\n",
       "      <td>0</td>\n",
       "      <td>1</td>\n",
       "      <td>0</td>\n",
       "      <td>2</td>\n",
       "      <td>1</td>\n",
       "      <td>1</td>\n",
       "      <td>8.200000</td>\n",
       "      <td>10.60610</td>\n",
       "      <td>59.0435</td>\n",
       "      <td>10.739832</td>\n",
       "      <td>108</td>\n",
       "      <td>1454</td>\n",
       "      <td>1562</td>\n",
       "    </tr>\n",
       "    <tr>\n",
       "      <th>4</th>\n",
       "      <td>5</td>\n",
       "      <td>05-01-2018</td>\n",
       "      <td>1</td>\n",
       "      <td>0</td>\n",
       "      <td>1</td>\n",
       "      <td>0</td>\n",
       "      <td>3</td>\n",
       "      <td>1</td>\n",
       "      <td>1</td>\n",
       "      <td>9.305237</td>\n",
       "      <td>11.46350</td>\n",
       "      <td>43.6957</td>\n",
       "      <td>12.522300</td>\n",
       "      <td>82</td>\n",
       "      <td>1518</td>\n",
       "      <td>1600</td>\n",
       "    </tr>\n",
       "  </tbody>\n",
       "</table>\n",
       "</div>"
      ],
      "text/plain": [
       "   instant      dteday  season  yr  mnth  holiday  weekday  workingday  \\\n",
       "0        1  01-01-2018       1   0     1        0        6           0   \n",
       "1        2  02-01-2018       1   0     1        0        0           0   \n",
       "2        3  03-01-2018       1   0     1        0        1           1   \n",
       "3        4  04-01-2018       1   0     1        0        2           1   \n",
       "4        5  05-01-2018       1   0     1        0        3           1   \n",
       "\n",
       "   weathersit       temp     atemp      hum  windspeed  casual  registered  \\\n",
       "0           2  14.110847  18.18125  80.5833  10.749882     331         654   \n",
       "1           2  14.902598  17.68695  69.6087  16.652113     131         670   \n",
       "2           1   8.050924   9.47025  43.7273  16.636703     120        1229   \n",
       "3           1   8.200000  10.60610  59.0435  10.739832     108        1454   \n",
       "4           1   9.305237  11.46350  43.6957  12.522300      82        1518   \n",
       "\n",
       "    cnt  \n",
       "0   985  \n",
       "1   801  \n",
       "2  1349  \n",
       "3  1562  \n",
       "4  1600  "
      ]
     },
     "execution_count": 3,
     "metadata": {},
     "output_type": "execute_result"
    }
   ],
   "source": [
    "data = pd.read_csv(r'day.csv')\n",
    "pd.set_option('max_columns', None)\n",
    "data.head()"
   ]
  },
  {
   "cell_type": "markdown",
   "id": "6d5e76c0",
   "metadata": {},
   "source": [
    "#### NUMBER OF ROWS AND COLUMNS IN DATASET"
   ]
  },
  {
   "cell_type": "code",
   "execution_count": 4,
   "id": "c0c46d8d",
   "metadata": {},
   "outputs": [
    {
     "name": "stdout",
     "output_type": "stream",
     "text": [
      "The dataset has 730 rows and 16 columns\n"
     ]
    }
   ],
   "source": [
    "rows, columns = data.shape\n",
    "print(f'The dataset has {rows} rows and {columns} columns')"
   ]
  },
  {
   "cell_type": "markdown",
   "id": "db10d6b2",
   "metadata": {},
   "source": [
    "#### BASIC INFO ON THE DATASET "
   ]
  },
  {
   "cell_type": "code",
   "execution_count": 5,
   "id": "882ca08d",
   "metadata": {},
   "outputs": [
    {
     "name": "stdout",
     "output_type": "stream",
     "text": [
      "<class 'pandas.core.frame.DataFrame'>\n",
      "RangeIndex: 730 entries, 0 to 729\n",
      "Data columns (total 16 columns):\n",
      " #   Column      Non-Null Count  Dtype  \n",
      "---  ------      --------------  -----  \n",
      " 0   instant     730 non-null    int64  \n",
      " 1   dteday      730 non-null    object \n",
      " 2   season      730 non-null    int64  \n",
      " 3   yr          730 non-null    int64  \n",
      " 4   mnth        730 non-null    int64  \n",
      " 5   holiday     730 non-null    int64  \n",
      " 6   weekday     730 non-null    int64  \n",
      " 7   workingday  730 non-null    int64  \n",
      " 8   weathersit  730 non-null    int64  \n",
      " 9   temp        730 non-null    float64\n",
      " 10  atemp       730 non-null    float64\n",
      " 11  hum         730 non-null    float64\n",
      " 12  windspeed   730 non-null    float64\n",
      " 13  casual      730 non-null    int64  \n",
      " 14  registered  730 non-null    int64  \n",
      " 15  cnt         730 non-null    int64  \n",
      "dtypes: float64(4), int64(11), object(1)\n",
      "memory usage: 91.4+ KB\n"
     ]
    }
   ],
   "source": [
    "data.info()"
   ]
  },
  {
   "cell_type": "code",
   "execution_count": 6,
   "id": "5579672a",
   "metadata": {},
   "outputs": [
    {
     "name": "stdout",
     "output_type": "stream",
     "text": [
      "There are no duplicates in the dataset.\n"
     ]
    }
   ],
   "source": [
    "# Looking for data duplicates\n",
    "row, column = data[data.duplicated()].shape\n",
    "print('There are no duplicates in the dataset.' if row==0 else f'There are {row} duplicates in the dataset.')"
   ]
  },
  {
   "cell_type": "markdown",
   "id": "2c176350",
   "metadata": {},
   "source": [
    "#### NUMBER OF FEATURES AND PERCENTAGE OF NULL VALUES"
   ]
  },
  {
   "cell_type": "code",
   "execution_count": 7,
   "id": "652016ee",
   "metadata": {},
   "outputs": [
    {
     "name": "stdout",
     "output_type": "stream",
     "text": [
      "NUMBER OF NUMERICAL AND CATEGORICAL FEATURES:\n",
      "The dataset has 15 numerical features and 1 categorical features\n",
      "\n",
      "PERCENTAGE MISSING VALUES AFTER FILLING:\n",
      "There is no missing values in the dataset\n"
     ]
    }
   ],
   "source": [
    "# number of numerical and categorical features\n",
    "num, obj = 0, 0\n",
    "for feature in data:\n",
    "    if data[feature].dtype == 'O':\n",
    "        obj += 1\n",
    "    else:\n",
    "        num += 1\n",
    "print('NUMBER OF NUMERICAL AND CATEGORICAL FEATURES:')\n",
    "print(f'The dataset has {num} numerical features and {obj} categorical features')\n",
    "\n",
    "# Percentage of missing values\n",
    "print('\\nPERCENTAGE MISSING VALUES AFTER FILLING:')\n",
    "c=0\n",
    "for feature in data:\n",
    "    if data[feature].isnull().sum()!=0:\n",
    "        print(f\"The feature '{feature}' has {np.round((data[feature].isnull().mean()*100),2)}% missing values\")\n",
    "    else:\n",
    "        c+=1\n",
    "if c == len(data.columns):print('There is no missing values in the dataset')"
   ]
  },
  {
   "cell_type": "markdown",
   "id": "28bff412",
   "metadata": {},
   "source": [
    "#### INFERENCE ON DROP OF IRRELAVANT COLUMNS"
   ]
  },
  {
   "cell_type": "markdown",
   "id": "92f046ec",
   "metadata": {},
   "source": [
    "\n",
    "\n",
    "\n",
    "- The feature <b>'instant'</b> has no significance in prediction of demand of bikes.\n",
    "- The feature <b>'dteday'</b> has significance but the same column can be derived from following features 'season\tyr\tmnth\tweekday\t'.\n",
    "- The feature <b>casual & registered</b> this feature has no much significance as we are interested in total count of bikes (ie demand) not by category wise and moreover combination of casual & registered is target 'cnt'. \n",
    "- The feature <b>holiday</b> is dropped as it can be deduced by feature 'workingday'\n",
    "\n",
    "\n",
    "\n",
    "Hence above highlighted  columns will be dropped."
   ]
  },
  {
   "cell_type": "code",
   "execution_count": 8,
   "id": "ef656f2e",
   "metadata": {},
   "outputs": [],
   "source": [
    "## dropping the decided columns \n",
    "del data['instant']\n",
    "del data['dteday']\n",
    "del data['casual']\n",
    "del data['registered']\n",
    "del data['holiday']"
   ]
  },
  {
   "cell_type": "code",
   "execution_count": 9,
   "id": "b9f1250e",
   "metadata": {},
   "outputs": [
    {
     "name": "stdout",
     "output_type": "stream",
     "text": [
      "The dataset has 730 rows and 11 columns\n"
     ]
    }
   ],
   "source": [
    "rows, columns = data.shape\n",
    "print(f'The dataset has {rows} rows and {columns} columns')"
   ]
  },
  {
   "cell_type": "code",
   "execution_count": 10,
   "id": "7b1963fe",
   "metadata": {},
   "outputs": [
    {
     "data": {
      "image/png": "[encoded data removed]",
      "text/plain": [
       "<Figure size 1872x2160 with 11 Axes>"
      ]
     },
     "metadata": {},
     "output_type": "display_data"
    }
   ],
   "source": [
    "#Creating subplots\n",
    "fig = plt.figure(figsize=(26,30))\n",
    "spec = fig.add_gridspec(6,4)\n",
    "spec.update(wspace=0.2, hspace=0.3)\n",
    "sec_01 = fig.add_subplot(spec[0,0])\n",
    "sec_02 = fig.add_subplot(spec[0,1])\n",
    "sec_03 = fig.add_subplot(spec[0,2])\n",
    "sec_04 = fig.add_subplot(spec[0,3])\n",
    "sec_05 = fig.add_subplot(spec[1,0])\n",
    "sec_06 = fig.add_subplot(spec[1,1])\n",
    "sec_07 = fig.add_subplot(spec[1,2])\n",
    "sec_08 = fig.add_subplot(spec[1,3])\n",
    "sec_09 = fig.add_subplot(spec[2,0])\n",
    "sec_10 = fig.add_subplot(spec[2,1])\n",
    "sec_11 = fig.add_subplot(spec[2,2])\n",
    "\n",
    "\n",
    "# Adding color preference\n",
    "bg_color = '#ffd9d9'\n",
    "for selection in [fig, sec_01, sec_02, sec_03, sec_04, sec_05, sec_06, sec_07, sec_08,\n",
    "                  sec_09, sec_10, sec_11]:\n",
    "    selection.set_facecolor(bg_color)\n",
    "\n",
    "# Plotting the graph\n",
    "sec = [sec_01, sec_02, sec_03, sec_04, sec_05, sec_06, sec_07, sec_08, sec_09, sec_10,sec_11]\n",
    "cnt = 0\n",
    "for feature in data:\n",
    "    if data[feature].dtype=='O' or feature=='cnt':\n",
    "        continue\n",
    "    else:\n",
    "        sns.boxplot(x=data[feature], ax=sec[cnt], color='green')\n",
    "        cnt+=1\n",
    "# Removing axis and spines\n",
    "for sec in [sec_11]:\n",
    "    for location in ['top', 'right', 'bottom','left']:\n",
    "        sec.spines[location].set_visible(False)\n",
    "        sec.xaxis.set_visible(False)\n",
    "        sec.yaxis.set_visible(False)\n"
   ]
  },
  {
   "cell_type": "markdown",
   "id": "e3f432d1",
   "metadata": {},
   "source": [
    "###### We can see clear outliers on feature 'hum' and 'windspeed'"
   ]
  },
  {
   "cell_type": "code",
   "execution_count": 11,
   "id": "2440e0f1",
   "metadata": {},
   "outputs": [
    {
     "data": {
      "text/plain": [
       "Text(0.5, 1.0, 'DISTRIBUTION BEFORE OUTLIER REMOVAL - WINDSPEED')"
      ]
     },
     "execution_count": 11,
     "metadata": {},
     "output_type": "execute_result"
    },
    {
     "data": {
      "image/png": "[encoded data removed]",
      "text/plain": [
       "<Figure size 1440x864 with 2 Axes>"
      ]
     },
     "metadata": {
      "needs_background": "light"
     },
     "output_type": "display_data"
    }
   ],
   "source": [
    "# Removing the data above 99% in upper fence of annual income\n",
    "\n",
    "# Distribution plot before outlier removal\n",
    "plt.figure(figsize=(20,12))\n",
    "plt.subplot(2,2,1)\n",
    "ax = sns.distplot(data['hum'], color='black')\n",
    "ax.set_title('DISTRIBUTION BEFORE OUTLIER REMOVAL - HUM ')\n",
    "\n",
    "plt.subplot(2,2,2)\n",
    "ax = sns.distplot(data['windspeed'], color='black')\n",
    "ax.set_title('DISTRIBUTION BEFORE OUTLIER REMOVAL - WINDSPEED')\n"
   ]
  },
  {
   "cell_type": "markdown",
   "id": "8a34693a",
   "metadata": {},
   "source": [
    "###### We can see 'windspeed' and 'hum' is left skewed"
   ]
  },
  {
   "cell_type": "markdown",
   "id": "3dabf4e2",
   "metadata": {},
   "source": [
    "#### OUTLIER TRATMENT"
   ]
  },
  {
   "cell_type": "code",
   "execution_count": 12,
   "id": "26923fea",
   "metadata": {},
   "outputs": [],
   "source": [
    "outlier_feature_moretha2=['hum','windspeed']\n",
    "for feature in outlier_feature_moretha2:\n",
    "    if data[feature].dtype!='O' and len(data[feature].unique())>2:\n",
    "        lower_quartile = data[feature].quantile(0.25)\n",
    "        upper_quartile = data[feature].quantile(0.75)\n",
    "        IQR = upper_quartile - lower_quartile\n",
    "        lower_fence = lower_quartile - (1.5*IQR)\n",
    "        upper_fence = upper_quartile + (1.5*IQR)\n",
    "        \n",
    "        data[feature] = np.where(data[feature]>upper_fence, \n",
    "                                upper_fence, \n",
    "                                data[feature])\n",
    "        \n",
    "        data[feature] = np.where(data[feature]<lower_fence,\n",
    "                               lower_fence,\n",
    "                               data[feature])"
   ]
  },
  {
   "cell_type": "code",
   "execution_count": 13,
   "id": "ad557f60",
   "metadata": {},
   "outputs": [
    {
     "data": {
      "text/plain": [
       "Text(0.5, 1.0, 'DISTRIBUTION AFTER OUTLIER REMOVAL - WINDSPEED')"
      ]
     },
     "execution_count": 13,
     "metadata": {},
     "output_type": "execute_result"
    },
    {
     "data": {
      "image/png": "[encoded data removed]",
      "text/plain": [
       "<Figure size 1440x864 with 2 Axes>"
      ]
     },
     "metadata": {
      "needs_background": "light"
     },
     "output_type": "display_data"
    }
   ],
   "source": [
    "\n",
    "plt.figure(figsize=(20,12))\n",
    "plt.subplot(2,2,1)\n",
    "ax = sns.distplot(data['hum'], color='black')\n",
    "ax.set_title('DISTRIBUTION AFTER OUTLIER REMOVAL - HUM ')\n",
    "\n",
    "plt.subplot(2,2,2)\n",
    "ax = sns.distplot(data['windspeed'], color='black')\n",
    "ax.set_title('DISTRIBUTION AFTER OUTLIER REMOVAL - WINDSPEED')"
   ]
  },
  {
   "cell_type": "code",
   "execution_count": 14,
   "id": "bf2aa2a8",
   "metadata": {},
   "outputs": [
    {
     "data": {
      "image/png": "[encoded data removed]",
      "text/plain": [
       "<Figure size 1872x2160 with 11 Axes>"
      ]
     },
     "metadata": {},
     "output_type": "display_data"
    }
   ],
   "source": [
    "#Creating subplots\n",
    "fig = plt.figure(figsize=(26,30))\n",
    "spec = fig.add_gridspec(6,4)\n",
    "spec.update(wspace=0.2, hspace=0.3)\n",
    "sec_01 = fig.add_subplot(spec[0,0])\n",
    "sec_02 = fig.add_subplot(spec[0,1])\n",
    "sec_03 = fig.add_subplot(spec[0,2])\n",
    "sec_04 = fig.add_subplot(spec[0,3])\n",
    "sec_05 = fig.add_subplot(spec[1,0])\n",
    "sec_06 = fig.add_subplot(spec[1,1])\n",
    "sec_07 = fig.add_subplot(spec[1,2])\n",
    "sec_08 = fig.add_subplot(spec[1,3])\n",
    "sec_09 = fig.add_subplot(spec[2,0])\n",
    "sec_10 = fig.add_subplot(spec[2,1])\n",
    "sec_11 = fig.add_subplot(spec[2,2])\n",
    "\n",
    "\n",
    "# Adding color preference\n",
    "bg_color = '#ffd9d9'\n",
    "for selection in [fig, sec_01, sec_02, sec_03, sec_04, sec_05, sec_06, sec_07, sec_08,\n",
    "                  sec_09, sec_10, sec_11]:\n",
    "    selection.set_facecolor(bg_color)\n",
    "\n",
    "# Plotting the graph\n",
    "sec = [sec_01, sec_02, sec_03, sec_04, sec_05, sec_06, sec_07, sec_08, sec_09, sec_10,sec_11, \n",
    "       ]\n",
    "cnt = 0\n",
    "for feature in data:\n",
    "    if data[feature].dtype=='O' or feature=='cnt':\n",
    "        continue\n",
    "    else:\n",
    "        sns.boxplot(x=data[feature], ax=sec[cnt], color='green')\n",
    "        cnt+=1\n",
    "# Removing axis and spines\n",
    "for sec in [sec_11]:\n",
    "    for location in ['top', 'right', 'bottom','left']:\n",
    "        sec.spines[location].set_visible(False)\n",
    "        sec.xaxis.set_visible(False)\n",
    "        sec.yaxis.set_visible(False)\n"
   ]
  },
  {
   "cell_type": "markdown",
   "id": "137c3c5a",
   "metadata": {},
   "source": [
    "###### As shown there are NO OUTLIERS"
   ]
  },
  {
   "cell_type": "markdown",
   "id": "4a7af025",
   "metadata": {},
   "source": [
    "#### CHECK THE NUMBER OF UNIQUE VALUES \n",
    "We are checking unique values as we found that the data type of our features are numerical .But we need to identify which among them is continuous numerical feature as we can not apply Multiple Linear Regression on categorical features."
   ]
  },
  {
   "cell_type": "code",
   "execution_count": 15,
   "id": "e1f9dd3c",
   "metadata": {},
   "outputs": [
    {
     "data": {
      "text/plain": [
       "season          4\n",
       "yr              2\n",
       "mnth           12\n",
       "weekday         7\n",
       "workingday      2\n",
       "weathersit      3\n",
       "temp          498\n",
       "atemp         689\n",
       "hum           593\n",
       "windspeed     637\n",
       "cnt           695\n",
       "dtype: int64"
      ]
     },
     "execution_count": 15,
     "metadata": {},
     "output_type": "execute_result"
    }
   ],
   "source": [
    "data.nunique()"
   ]
  },
  {
   "cell_type": "code",
   "execution_count": 16,
   "id": "e093f1e7",
   "metadata": {},
   "outputs": [
    {
     "name": "stdout",
     "output_type": "stream",
     "text": [
      "The dataset has 730 rows and 11 columns including target variable \n",
      "The target variable is cnt\n"
     ]
    }
   ],
   "source": [
    "rows, columns = data.shape\n",
    "print(f'The dataset has {rows} rows and {columns} columns including target variable ')\n",
    "\n",
    "\n",
    "print(f'The target variable is {data.columns[-1]}')"
   ]
  },
  {
   "cell_type": "code",
   "execution_count": 17,
   "id": "14fada9d",
   "metadata": {},
   "outputs": [
    {
     "name": "stdout",
     "output_type": "stream",
     "text": [
      "['season', 'yr', 'mnth', 'weekday', 'workingday', 'weathersit'] are categorical features\n",
      "['temp', 'atemp', 'hum', 'windspeed'] are numerical features\n"
     ]
    }
   ],
   "source": [
    "likely_cat = {}\n",
    "categorical_feature=[]\n",
    "numerical_feature=[]\n",
    "for var in data.columns:\n",
    "    likely_cat[var] = 1.*data[var].nunique()/data[var].count() < 0.05\n",
    "for key,value in likely_cat.items():\n",
    "    if value == True:\n",
    "        if key != 'cnt':  ##exclude target variable  \n",
    "            categorical_feature.append(key)\n",
    "    else:\n",
    "        if key != 'cnt':  ###exclude target variable \n",
    "            numerical_feature.append(key)\n",
    "\n",
    "print(f'{categorical_feature} are categorical features')\n",
    "print(f'{numerical_feature} are numerical features')\n"
   ]
  },
  {
   "cell_type": "code",
   "execution_count": 18,
   "id": "93304bea",
   "metadata": {},
   "outputs": [
    {
     "data": {
      "text/html": [
       "<div>\n",
       "<style scoped>\n",
       "    .dataframe tbody tr th:only-of-type {\n",
       "        vertical-align: middle;\n",
       "    }\n",
       "\n",
       "    .dataframe tbody tr th {\n",
       "        vertical-align: top;\n",
       "    }\n",
       "\n",
       "    .dataframe thead th {\n",
       "        text-align: right;\n",
       "    }\n",
       "</style>\n",
       "<table border=\"1\" class=\"dataframe\">\n",
       "  <thead>\n",
       "    <tr style=\"text-align: right;\">\n",
       "      <th></th>\n",
       "      <th>season</th>\n",
       "      <th>yr</th>\n",
       "      <th>mnth</th>\n",
       "      <th>weekday</th>\n",
       "      <th>workingday</th>\n",
       "      <th>weathersit</th>\n",
       "      <th>temp</th>\n",
       "      <th>atemp</th>\n",
       "      <th>hum</th>\n",
       "      <th>windspeed</th>\n",
       "      <th>cnt</th>\n",
       "    </tr>\n",
       "  </thead>\n",
       "  <tbody>\n",
       "    <tr>\n",
       "      <th>0</th>\n",
       "      <td>spring</td>\n",
       "      <td>0</td>\n",
       "      <td>jan</td>\n",
       "      <td>sat</td>\n",
       "      <td>0</td>\n",
       "      <td>moderate</td>\n",
       "      <td>14.110847</td>\n",
       "      <td>18.18125</td>\n",
       "      <td>80.5833</td>\n",
       "      <td>10.749882</td>\n",
       "      <td>985</td>\n",
       "    </tr>\n",
       "    <tr>\n",
       "      <th>1</th>\n",
       "      <td>spring</td>\n",
       "      <td>0</td>\n",
       "      <td>jan</td>\n",
       "      <td>sun</td>\n",
       "      <td>0</td>\n",
       "      <td>moderate</td>\n",
       "      <td>14.902598</td>\n",
       "      <td>17.68695</td>\n",
       "      <td>69.6087</td>\n",
       "      <td>16.652113</td>\n",
       "      <td>801</td>\n",
       "    </tr>\n",
       "    <tr>\n",
       "      <th>2</th>\n",
       "      <td>spring</td>\n",
       "      <td>0</td>\n",
       "      <td>jan</td>\n",
       "      <td>mon</td>\n",
       "      <td>1</td>\n",
       "      <td>good</td>\n",
       "      <td>8.050924</td>\n",
       "      <td>9.47025</td>\n",
       "      <td>43.7273</td>\n",
       "      <td>16.636703</td>\n",
       "      <td>1349</td>\n",
       "    </tr>\n",
       "    <tr>\n",
       "      <th>3</th>\n",
       "      <td>spring</td>\n",
       "      <td>0</td>\n",
       "      <td>jan</td>\n",
       "      <td>tue</td>\n",
       "      <td>1</td>\n",
       "      <td>good</td>\n",
       "      <td>8.200000</td>\n",
       "      <td>10.60610</td>\n",
       "      <td>59.0435</td>\n",
       "      <td>10.739832</td>\n",
       "      <td>1562</td>\n",
       "    </tr>\n",
       "    <tr>\n",
       "      <th>4</th>\n",
       "      <td>spring</td>\n",
       "      <td>0</td>\n",
       "      <td>jan</td>\n",
       "      <td>wed</td>\n",
       "      <td>1</td>\n",
       "      <td>good</td>\n",
       "      <td>9.305237</td>\n",
       "      <td>11.46350</td>\n",
       "      <td>43.6957</td>\n",
       "      <td>12.522300</td>\n",
       "      <td>1600</td>\n",
       "    </tr>\n",
       "  </tbody>\n",
       "</table>\n",
       "</div>"
      ],
      "text/plain": [
       "   season  yr mnth weekday  workingday weathersit       temp     atemp  \\\n",
       "0  spring   0  jan     sat           0   moderate  14.110847  18.18125   \n",
       "1  spring   0  jan     sun           0   moderate  14.902598  17.68695   \n",
       "2  spring   0  jan     mon           1       good   8.050924   9.47025   \n",
       "3  spring   0  jan     tue           1       good   8.200000  10.60610   \n",
       "4  spring   0  jan     wed           1       good   9.305237  11.46350   \n",
       "\n",
       "       hum  windspeed   cnt  \n",
       "0  80.5833  10.749882   985  \n",
       "1  69.6087  16.652113   801  \n",
       "2  43.7273  16.636703  1349  \n",
       "3  59.0435  10.739832  1562  \n",
       "4  43.6957  12.522300  1600  "
      ]
     },
     "execution_count": 18,
     "metadata": {},
     "output_type": "execute_result"
    }
   ],
   "source": [
    "# Convert to 'category' data type\n",
    "data['season']=data['season'].astype('category')\n",
    "data['mnth']=data['mnth'].astype('category')\n",
    "data['weekday']=data['weekday'].astype('category')\n",
    "data['weathersit']=data['weathersit'].astype('category')\n",
    "data.season.replace({1:\"spring\", 2:\"summer\", 3:\"fall\", 4:\"winter\"},inplace = True)\n",
    "data.mnth.replace({1: 'jan',2: 'feb',3: 'mar',4: 'apr',5: 'may',6: 'jun',\n",
    "                  7: 'jul',8: 'aug',9: 'sept',10: 'oct',11: 'nov',12: 'dec'},inplace = True)\n",
    "data.weekday.replace({0: 'sun',1: 'mon',2: 'tue',3: 'wed',4: 'thu',5: 'fri',6: 'sat'},inplace = True)\n",
    "data.weathersit.replace({1:'good',2:'moderate',3:'bad',4:'severe'},inplace = True)\n",
    "data.head()"
   ]
  },
  {
   "cell_type": "markdown",
   "id": "a74b0c12",
   "metadata": {},
   "source": [
    "###### NOTE : We didnt convert 'yr' and 'workingday'  with string values as we dont want get_dummies to create dummy. Because both the features have 2 values unique which makes encoding these two features of no significanace."
   ]
  },
  {
   "cell_type": "markdown",
   "id": "fdfc1a92",
   "metadata": {},
   "source": [
    "###### VISUALISING NUMERICAL AND CATEGORICAL FEATURE"
   ]
  },
  {
   "cell_type": "markdown",
   "id": "2c764a33",
   "metadata": {},
   "source": [
    "###### BIVARIATE ANALYSIS "
   ]
  },
  {
   "cell_type": "code",
   "execution_count": 19,
   "id": "f48f9ace",
   "metadata": {},
   "outputs": [
    {
     "data": {
      "image/png": "[encoded data removed]",
      "text/plain": [
       "<Figure size 1440x720 with 10 Axes>"
      ]
     },
     "metadata": {
      "needs_background": "light"
     },
     "output_type": "display_data"
    }
   ],
   "source": [
    "#Creating plots\n",
    "fig = plt.figure(figsize=(20,10))\n",
    "spec = fig.add_gridspec(4,3)\n",
    "spec.update(wspace=0.2, hspace=0.3)\n",
    "sec_01 = fig.add_subplot(spec[0,0])\n",
    "sec_02 = fig.add_subplot(spec[0,1])\n",
    "sec_03 = fig.add_subplot(spec[0,2])\n",
    "sec_04 = fig.add_subplot(spec[1,0])\n",
    "sec_05 = fig.add_subplot(spec[1,1])\n",
    "sec_06 = fig.add_subplot(spec[1,2])\n",
    "sec_07 = fig.add_subplot(spec[2,0])\n",
    "sec_08 = fig.add_subplot(spec[2,1])\n",
    "sec_09 = fig.add_subplot(spec[2,2])\n",
    "sec_10 = fig.add_subplot(spec[3,0])\n",
    "\n",
    "\n",
    "\n",
    "\n",
    "\n",
    "\n",
    "# Plotting the graph\n",
    "sec = [sec_01, sec_02, sec_03, sec_04,sec_05,sec_06]\n",
    "num_sec = [sec_07, sec_08, sec_09, sec_10]\n",
    "\n",
    "cnt = 0\n",
    "for feature in ['season', 'mnth', 'weekday', 'yr','workingday','weathersit']:\n",
    "    sns.barplot(data =data, \n",
    "                x=data[feature],\n",
    "                 y='cnt', \n",
    "                 ax=sec[cnt],\n",
    "                 palette=['#AECB46', \"#FF4C33\"])\n",
    "    cnt+=1\n",
    "cnt = 0\n",
    "for feature in ['temp', 'atemp', 'hum', 'windspeed']:\n",
    "    sns.lineplot(data=data,x=data[feature],\n",
    "                 y='cnt', \n",
    "                 ax=num_sec[cnt],\n",
    "                 palette=['#AECB46', \"#FF4C33\"])\n",
    "    cnt+=1\n",
    "\n",
    "\n",
    "plt.show()"
   ]
  },
  {
   "cell_type": "markdown",
   "id": "b837e5e5",
   "metadata": {},
   "source": [
    "###### INFERENCE OF BIVARIATE\n",
    "- Demand is spiked up for every fall and summer season\n",
    "- Greater demand in 2019 than 2018\n",
    "- Slight higher when the day is working day\n",
    "- May to Sept  there is increase in demand for bikes \n",
    "- All days of week show almost similar behaviour on demand of bikes\n",
    "- When the weather is good the demand is clearly way higher as it is convienent to ride a bike in good weather\n",
    "- There is increase in demand as atemp is higher\n",
    "- There is dip in demand when humidity and windspeed is higher\n",
    "\n"
   ]
  },
  {
   "cell_type": "markdown",
   "id": "b35cdab7",
   "metadata": {},
   "source": [
    "##### MULTIVARIATE ANALYSIS"
   ]
  },
  {
   "cell_type": "code",
   "execution_count": 20,
   "id": "bbd95a1e",
   "metadata": {},
   "outputs": [
    {
     "data": {
      "image/png": "[encoded data removed]",
      "text/plain": [
       "<Figure size 1152x720 with 2 Axes>"
      ]
     },
     "metadata": {
      "needs_background": "light"
     },
     "output_type": "display_data"
    }
   ],
   "source": [
    "corr = data.corr()\n",
    "mask = np.triu(corr)\n",
    "plt.figure(figsize=(16,10))\n",
    "sns.heatmap(corr, \n",
    "            annot=True , \n",
    "            fmt='.2f', \n",
    "            mask=mask, \n",
    "            cmap='Purples')\n",
    "plt.show()"
   ]
  },
  {
   "cell_type": "code",
   "execution_count": null,
   "id": "bb7101bd",
   "metadata": {},
   "outputs": [],
   "source": [
    "#create pairplot\n",
    "pairplotconti= data[[ 'temp', 'atemp', 'hum', 'windspeed','cnt']]\n",
    "\n",
    "sns.pairplot(pairplotconti, diag_kind='kde')\n",
    "plt.show()"
   ]
  },
  {
   "cell_type": "markdown",
   "id": "9ac49750",
   "metadata": {},
   "source": [
    "###### INFERENCE OF MULTIVARIATE\n",
    "- There is strong correlation between cnt and temp and cnt and atemp \n",
    "- There is strong correlation between atemp and temp"
   ]
  },
  {
   "cell_type": "markdown",
   "id": "28432ad2",
   "metadata": {},
   "source": [
    "## DATA PREPARATION AND MODEL BUILDING "
   ]
  },
  {
   "cell_type": "markdown",
   "id": "1a72560a",
   "metadata": {},
   "source": [
    "### DATA TRANSFORMATION AND SCALING AND TRAIN TEST SPLIT "
   ]
  },
  {
   "cell_type": "code",
   "execution_count": null,
   "id": "46cfed83",
   "metadata": {},
   "outputs": [],
   "source": [
    "data = pd.get_dummies(data, drop_first=True)\n",
    "data.info()"
   ]
  },
  {
   "cell_type": "code",
   "execution_count": null,
   "id": "f20ea5b8",
   "metadata": {},
   "outputs": [],
   "source": [
    "#After doing the encoding \n",
    "\n",
    "rows, columns = data.shape\n",
    "print(f'The encoded feature dataset has {rows} rows and {columns} columns')"
   ]
  },
  {
   "cell_type": "markdown",
   "id": "3d676f69",
   "metadata": {},
   "source": [
    "#### SPLITING DATASET "
   ]
  },
  {
   "cell_type": "code",
   "execution_count": null,
   "id": "7dc1e683",
   "metadata": {},
   "outputs": [],
   "source": [
    "\n",
    "\n",
    "# We should specify 'random_state' so that the train and test data set always have the same rows, respectively\n",
    "\n",
    "np.random.seed(0)\n",
    "data_train, data_test = train_test_split(data, train_size = 0.70, test_size = 0.30, random_state = 100)"
   ]
  },
  {
   "cell_type": "code",
   "execution_count": null,
   "id": "7e7498b6",
   "metadata": {},
   "outputs": [],
   "source": [
    "##test and train shape check \n",
    "rows, columns = data_train.shape\n",
    "print(f'The encoded feature dataset has {rows} rows and {columns} columns')\n",
    "rows, columns = data_test.shape\n",
    "print(f'The encoded feature dataset has {rows} rows and {columns} columns')"
   ]
  },
  {
   "cell_type": "markdown",
   "id": "85452647",
   "metadata": {},
   "source": [
    "#### RESCALING THE DATASET"
   ]
  },
  {
   "cell_type": "code",
   "execution_count": null,
   "id": "0dbd948d",
   "metadata": {},
   "outputs": [],
   "source": [
    "# Apply scaler() to all the columns except the 'yes-no' and 'dummy' variables\n",
    "\n",
    "scaler = MinMaxScaler()\n",
    "data_train[numerical_feature] = scaler.fit_transform(data_train[numerical_feature])\n",
    "\n",
    "data_train.head()"
   ]
  },
  {
   "cell_type": "markdown",
   "id": "89c23e62",
   "metadata": {},
   "source": [
    "###### DIVIDING INTO X AND Y SETS FOR MODEL BUILDING"
   ]
  },
  {
   "cell_type": "code",
   "execution_count": null,
   "id": "758c85a2",
   "metadata": {},
   "outputs": [],
   "source": [
    "y_train = data_train.pop('cnt')\n",
    "X_train = data_train\n"
   ]
  },
  {
   "cell_type": "markdown",
   "id": "f6950eaa",
   "metadata": {},
   "source": [
    "###### MODEL BUILDING"
   ]
  },
  {
   "cell_type": "code",
   "execution_count": null,
   "id": "256aedc4",
   "metadata": {},
   "outputs": [],
   "source": [
    "# Build a Lienar Regression model using SKLearn for RFE\n",
    "lr = LinearRegression()\n",
    "lr.fit(X_train,y_train)"
   ]
  },
  {
   "cell_type": "code",
   "execution_count": null,
   "id": "35e55e9f",
   "metadata": {},
   "outputs": [],
   "source": [
    "#Cut down number of features to 15 using automated approach\n",
    "rfe = RFE(lr,15)\n",
    "rfe.fit(X_train,y_train)"
   ]
  },
  {
   "cell_type": "code",
   "execution_count": null,
   "id": "7b836eeb",
   "metadata": {},
   "outputs": [],
   "source": [
    "list(zip(X_train.columns,rfe.support_,rfe.ranking_))"
   ]
  },
  {
   "cell_type": "markdown",
   "id": "b20f671a",
   "metadata": {},
   "source": [
    "###### MANUAL ELIMINATION"
   ]
  },
  {
   "cell_type": "code",
   "execution_count": null,
   "id": "8790f18f",
   "metadata": {},
   "outputs": [],
   "source": [
    "#Function to build a model using statsmodel api - Takes the columns to be selected for model as a parameter\n",
    "def build_model(cols):\n",
    "    X_train_sm = sm.add_constant(X_train[cols])\n",
    "    lm = sm.OLS(y_train, X_train_sm).fit()\n",
    "    print(lm.summary())\n",
    "    return lm"
   ]
  },
  {
   "cell_type": "code",
   "execution_count": null,
   "id": "0d014cbd",
   "metadata": {},
   "outputs": [],
   "source": [
    "#Function to calculate VIFs and print them -Takes the columns for which VIF to be calcualted as a parameter\n",
    "def get_vif(cols):\n",
    "    df1 = X_train[cols]\n",
    "    vif = pd.DataFrame()\n",
    "    vif['Features'] = df1.columns\n",
    "    vif['VIF'] = [variance_inflation_factor(df1.values, i) for i in range(df1.shape[1])]\n",
    "    vif['VIF'] = round(vif['VIF'],2)\n",
    "    print(vif.sort_values(by='VIF',ascending=False))"
   ]
  },
  {
   "cell_type": "code",
   "execution_count": null,
   "id": "cf7c5de7",
   "metadata": {},
   "outputs": [],
   "source": [
    "X_train_rfe=X_train.columns[rfe.support_]\n",
    "print(f'The features supported by rfe {X_train_rfe} and its shape is {X_train_rfe.shape}')"
   ]
  },
  {
   "cell_type": "markdown",
   "id": "2bf2fb24",
   "metadata": {},
   "source": [
    "There are 15 features as listed above picked up by RFE "
   ]
  },
  {
   "cell_type": "markdown",
   "id": "11e773a2",
   "metadata": {},
   "source": [
    "### MODEL 1"
   ]
  },
  {
   "cell_type": "code",
   "execution_count": null,
   "id": "5cf66cd9",
   "metadata": {},
   "outputs": [],
   "source": [
    "##selected RFE values \n",
    "cols_1=X_train_rfe\n",
    "X_train_rfe = X_train[cols_1]"
   ]
  },
  {
   "cell_type": "code",
   "execution_count": null,
   "id": "2fc4b521",
   "metadata": {},
   "outputs": [],
   "source": [
    "##model 1 \n",
    "build_model(cols_1)\n",
    "get_vif(cols_1)"
   ]
  },
  {
   "cell_type": "markdown",
   "id": "d970280f",
   "metadata": {},
   "source": [
    "Removing 'mnth_jan' - <b>High p value and low  VIF</b>"
   ]
  },
  {
   "cell_type": "markdown",
   "id": "ab972d92",
   "metadata": {},
   "source": [
    "### MODEL 2"
   ]
  },
  {
   "cell_type": "code",
   "execution_count": null,
   "id": "eef18392",
   "metadata": {},
   "outputs": [],
   "source": [
    "X_train_rfe= X_train_rfe.drop([\"mnth_jan\"], axis = 1)\n",
    "X_train_rfe_copy=X_train_rfe"
   ]
  },
  {
   "cell_type": "code",
   "execution_count": null,
   "id": "58b981bf",
   "metadata": {},
   "outputs": [],
   "source": [
    "build_model(X_train_rfe.columns)\n",
    "get_vif(X_train_rfe.columns)"
   ]
  },
  {
   "cell_type": "markdown",
   "id": "9ed81be5",
   "metadata": {},
   "source": [
    "Removing 'weekday_sun' - <b>High p value ,Low VIF</b>"
   ]
  },
  {
   "cell_type": "markdown",
   "id": "d79ee518",
   "metadata": {},
   "source": [
    "### MODEL 3"
   ]
  },
  {
   "cell_type": "code",
   "execution_count": null,
   "id": "5672447d",
   "metadata": {},
   "outputs": [],
   "source": [
    "X_train_rfe= X_train_rfe.drop([\"weekday_sun\"], axis = 1)"
   ]
  },
  {
   "cell_type": "code",
   "execution_count": null,
   "id": "5de12539",
   "metadata": {},
   "outputs": [],
   "source": [
    "build_model(X_train_rfe.columns)\n",
    "get_vif(X_train_rfe.columns)"
   ]
  },
  {
   "cell_type": "markdown",
   "id": "26782dcb",
   "metadata": {},
   "source": [
    "Removing 'season_spring' - <b> High p value and low VIF </b>"
   ]
  },
  {
   "cell_type": "markdown",
   "id": "a32ec3b4",
   "metadata": {},
   "source": [
    "### MODEL 4"
   ]
  },
  {
   "cell_type": "code",
   "execution_count": null,
   "id": "d24f3162",
   "metadata": {},
   "outputs": [],
   "source": [
    "X_train_rfe= X_train_rfe.drop([\"season_spring\"], axis = 1)"
   ]
  },
  {
   "cell_type": "code",
   "execution_count": null,
   "id": "10853917",
   "metadata": {},
   "outputs": [],
   "source": [
    "build_model(X_train_rfe.columns)\n",
    "get_vif(X_train_rfe.columns)"
   ]
  },
  {
   "cell_type": "markdown",
   "id": "658ad65e",
   "metadata": {},
   "source": [
    "Removing 'hum' - <b> low p value ,High VIF</b>"
   ]
  },
  {
   "cell_type": "markdown",
   "id": "2de98be4",
   "metadata": {},
   "source": [
    "### MODEL 5"
   ]
  },
  {
   "cell_type": "code",
   "execution_count": null,
   "id": "34239ebf",
   "metadata": {},
   "outputs": [],
   "source": [
    "X_train_rfe= X_train_rfe.drop([\"hum\"], axis = 1)"
   ]
  },
  {
   "cell_type": "code",
   "execution_count": null,
   "id": "2b1c9a15",
   "metadata": {},
   "outputs": [],
   "source": [
    "build_model(X_train_rfe.columns)\n",
    "get_vif(X_train_rfe.columns)"
   ]
  },
  {
   "cell_type": "markdown",
   "id": "64baaa52",
   "metadata": {},
   "source": [
    "Removing 'mnth_jul' - <b>High p value ,low VIF</b>"
   ]
  },
  {
   "cell_type": "markdown",
   "id": "10791b79",
   "metadata": {},
   "source": [
    "### MODEL 6"
   ]
  },
  {
   "cell_type": "code",
   "execution_count": null,
   "id": "b1a03fd1",
   "metadata": {},
   "outputs": [],
   "source": [
    "X_train_rfe= X_train_rfe.drop([\"mnth_jul\"], axis = 1)"
   ]
  },
  {
   "cell_type": "code",
   "execution_count": null,
   "id": "25468aa3",
   "metadata": {},
   "outputs": [],
   "source": [
    "build_model(X_train_rfe.columns)\n",
    "get_vif(X_train_rfe.columns)"
   ]
  },
  {
   "cell_type": "markdown",
   "id": "42c8ee78",
   "metadata": {},
   "source": [
    "Removing 'weathersit_good' - <b> Low p value and High VIF</b>"
   ]
  },
  {
   "cell_type": "markdown",
   "id": "76a91fd1",
   "metadata": {},
   "source": [
    "### MODEL 7"
   ]
  },
  {
   "cell_type": "code",
   "execution_count": null,
   "id": "18b8f941",
   "metadata": {},
   "outputs": [],
   "source": [
    "X_train_rfe= X_train_rfe.drop([\"weathersit_good\"], axis = 1)\n"
   ]
  },
  {
   "cell_type": "code",
   "execution_count": null,
   "id": "57699672",
   "metadata": {},
   "outputs": [],
   "source": [
    "final_model=build_model(X_train_rfe.columns)\n",
    "get_vif(X_train_rfe.columns)"
   ]
  },
  {
   "cell_type": "markdown",
   "id": "d19fe599",
   "metadata": {},
   "source": [
    "Here \n",
    "- VIF is below 5 - accepted. \n",
    "- p-value for all the features is  0.0 - accepted \n",
    "- R2 is 0.781 - a good value \n",
    "- F-stat - 210 which is high accepted \n",
    "- P(F-stat) is almost 0 - accepted "
   ]
  },
  {
   "cell_type": "code",
   "execution_count": null,
   "id": "eb945761",
   "metadata": {},
   "outputs": [],
   "source": [
    "#build the finalmodel using sklearn\n",
    "cols =X_train_rfe.columns\n",
    "\n",
    "#Build a model with above columns\n",
    "\n",
    "lr = LinearRegression()\n",
    "lr.fit(X_train[cols],y_train)\n",
    "print(lr.intercept_,lr.coef_)"
   ]
  },
  {
   "cell_type": "markdown",
   "id": "ad69ebd1",
   "metadata": {},
   "source": [
    "#### EQUATION"
   ]
  },
  {
   "cell_type": "markdown",
   "id": "f4d4956d",
   "metadata": {},
   "source": [
    "#### cnt = 714.8717 + 2075.5328 * yr+418.4003* workingday + 4794.5384 * temp -1191.6454 * windspeed + 765.2942 * season_summer + 1022.4238 * season_winter  +  760.3812* mnth_sept +  508.8859*weekday_sat -585.2222 * weathersit_moderate"
   ]
  },
  {
   "cell_type": "markdown",
   "id": "0956e2c1",
   "metadata": {},
   "source": [
    "##### RESIDUAL ANALYSIS AND PREDICTION"
   ]
  },
  {
   "cell_type": "code",
   "execution_count": null,
   "id": "3a2fe266",
   "metadata": {},
   "outputs": [],
   "source": [
    "y_train_cnt = lr.predict(X_train[cols])"
   ]
  },
  {
   "cell_type": "code",
   "execution_count": null,
   "id": "7382b131",
   "metadata": {},
   "outputs": [],
   "source": [
    "# Actual vs Predicted\n",
    "c = [i for i in range(0,len(X_train),1)]\n",
    "plt.plot(c,y_train, color=\"blue\")\n",
    "plt.plot(c,y_train_cnt, color=\"red\")\n",
    "plt.suptitle('Actual vs Predicted', fontsize = 15)\n",
    "plt.xlabel('Index')\n",
    "plt.ylabel('Demands')\n",
    "plt.show()"
   ]
  },
  {
   "cell_type": "markdown",
   "id": "26a8a7a9",
   "metadata": {},
   "source": [
    "#### Actual and predicted is almost same - The model is good "
   ]
  },
  {
   "cell_type": "code",
   "execution_count": null,
   "id": "93924d33",
   "metadata": {},
   "outputs": [],
   "source": [
    "r2_score(y_train,y_train_cnt)"
   ]
  },
  {
   "cell_type": "markdown",
   "id": "94d12470",
   "metadata": {},
   "source": [
    "#### R2 score is almost same as model R2 score "
   ]
  },
  {
   "cell_type": "markdown",
   "id": "1e18e1cb",
   "metadata": {},
   "source": [
    "##### SUMMARY OF ACCURACY OF TRAIN MODEL \n",
    "- Actual and predicted is almost same - The model is good\n",
    "- R2 score of y_train vs y_train_cnt is almost same as model R2 score"
   ]
  },
  {
   "cell_type": "code",
   "execution_count": null,
   "id": "844a871c",
   "metadata": {},
   "outputs": [],
   "source": [
    "##scale variables of numerical \n",
    "\n",
    "### no fit only transform on test data\n",
    "data_test[numerical_feature] = scaler.transform(data_test[numerical_feature])"
   ]
  },
  {
   "cell_type": "code",
   "execution_count": null,
   "id": "753cbc20",
   "metadata": {},
   "outputs": [],
   "source": [
    "y_test = data_test.pop('cnt')\n",
    "X_test = data_test"
   ]
  },
  {
   "cell_type": "code",
   "execution_count": null,
   "id": "fcd9f575",
   "metadata": {},
   "outputs": [],
   "source": [
    "y_test_cnt = lr.predict(X_test[cols])"
   ]
  },
  {
   "cell_type": "code",
   "execution_count": null,
   "id": "4037b779",
   "metadata": {},
   "outputs": [],
   "source": [
    "c = [i for i in range(0,len(X_test),1)]\n",
    "plt.plot(c,y_test, color=\"blue\")\n",
    "plt.plot(c,y_test_cnt, color=\"red\")\n",
    "plt.suptitle('Actual vs Predicted', fontsize = 15)\n",
    "plt.xlabel('Index')\n",
    "plt.ylabel('Demands')\n",
    "plt.show()"
   ]
  },
  {
   "cell_type": "markdown",
   "id": "a0d2f49f",
   "metadata": {},
   "source": [
    "The y_test and y_test_cnt are almost same "
   ]
  },
  {
   "cell_type": "code",
   "execution_count": null,
   "id": "a7d7ac13",
   "metadata": {},
   "outputs": [],
   "source": [
    "r2_score(y_test,y_test_cnt)"
   ]
  },
  {
   "cell_type": "markdown",
   "id": "10074223",
   "metadata": {},
   "source": [
    "##### SUMMARY OF ACCURACY OF TEST SET\n",
    "- Variance of the residuals (error terms) is constant across predictions. i.e error term does not vary much as the value of the predictor variable changes.\n",
    "- Actual and predicted is almost same on test data \n",
    "- R2 score of y_test vs y_test_cnt is almost same but has slight variation of .02 which is exceptable when compared with R2 score of model\n"
   ]
  },
  {
   "cell_type": "code",
   "execution_count": null,
   "id": "b6be8f8f",
   "metadata": {},
   "outputs": [],
   "source": [
    "print (\"This is difference between train and test r2 score {0:.2f} which is approximately 2% difference which shows the model is good and since difference is less which says the model is not overfitting as accuracy of train and test data r2 score is very less can be considered negligible.Hence I conclude the model is best fit possible\".format(r2_score(y_train,y_train_cnt)-r2_score(y_test,y_test_cnt))) "
   ]
  },
  {
   "cell_type": "markdown",
   "id": "c3039487",
   "metadata": {},
   "source": [
    "R2 score is almost same as model R2 score"
   ]
  },
  {
   "cell_type": "code",
   "execution_count": null,
   "id": "ae7e5937",
   "metadata": {},
   "outputs": [],
   "source": [
    "fig = plt.figure()\n",
    "plt.scatter(y_test, y_test_cnt)\n",
    "fig.suptitle('y_test vs y_test_cnt', fontsize = 20)              # Plot heading \n",
    "plt.xlabel('y_test', fontsize = 18)                          # X-label\n",
    "plt.ylabel('y_test_cnt', fontsize = 16)"
   ]
  },
  {
   "cell_type": "markdown",
   "id": "58098050",
   "metadata": {},
   "source": [
    "Variance of the residuals (error terms) is constant across predictions. i.e error term does not vary much as the value of the predictor variable changes."
   ]
  },
  {
   "cell_type": "markdown",
   "id": "70f276ef",
   "metadata": {},
   "source": [
    "### CHECK MULTIPLE LINEAR REGERESSION ASSUMPTION"
   ]
  },
  {
   "cell_type": "markdown",
   "id": "e2a4667f",
   "metadata": {},
   "source": [
    "#### MULTICOLINEARITY"
   ]
  },
  {
   "cell_type": "code",
   "execution_count": null,
   "id": "cbde614a",
   "metadata": {},
   "outputs": [],
   "source": [
    "plt.figure(figsize=(15,8))\n",
    "sns.heatmap(X_train[cols].corr(),annot = True, cmap=\"RdYlGn\")\n",
    "plt.show()"
   ]
  },
  {
   "cell_type": "markdown",
   "id": "a9750b14",
   "metadata": {},
   "source": [
    "Collinearity is less and correlation  has dropped"
   ]
  },
  {
   "cell_type": "markdown",
   "id": "bcb92a62",
   "metadata": {},
   "source": [
    "####  HOMOSCEDASITY "
   ]
  },
  {
   "cell_type": "code",
   "execution_count": null,
   "id": "79082432",
   "metadata": {},
   "outputs": [],
   "source": [
    "fig = plt.figure(figsize=(14,5))\n",
    "sns.regplot(y_test_cnt,y_test-y_test_cnt, color=\"blue\", marker='o')\n",
    "fig.suptitle('Homoscedasity', fontsize=20)              # Plot heading \n",
    "plt.xlabel('ypred', fontsize=18)                      # X-label\n",
    "plt.ylabel('Error -ycnt-ytest', fontsize=16)"
   ]
  },
  {
   "cell_type": "markdown",
   "id": "f8b6ce36",
   "metadata": {},
   "source": [
    "Error terms are randomly distributed and there is no pattern which means the output is explained well by the model and there are no other parameters that can explain the model better."
   ]
  },
  {
   "cell_type": "markdown",
   "id": "3748cd12",
   "metadata": {},
   "source": [
    "#### LINEARITY "
   ]
  },
  {
   "cell_type": "code",
   "execution_count": null,
   "id": "77c22fcc",
   "metadata": {},
   "outputs": [],
   "source": [
    "fig, ax = plt.subplots(nrows = 3, ncols = 3, figsize=(24, 14))\n",
    "k=0\n",
    "for i in range(3):\n",
    "    for j in range(3):\n",
    "        if k<9:\n",
    "              sns.regplot(x = X_train[cols[k]], y = y_train,ax=ax[i][j])\n",
    "        k+=1\n",
    "plt.show()"
   ]
  },
  {
   "cell_type": "markdown",
   "id": "f5601838",
   "metadata": {},
   "source": [
    "The is linear relationship between dependent variable (cnt) to all model selected independent variables as shown."
   ]
  },
  {
   "cell_type": "markdown",
   "id": "cd9122e7",
   "metadata": {},
   "source": [
    "#### NORMALITY"
   ]
  },
  {
   "cell_type": "code",
   "execution_count": null,
   "id": "4a17382d",
   "metadata": {},
   "outputs": [],
   "source": [
    "# Plot the histogram of the error terms\n",
    "fig = plt.figure()\n",
    "sns.distplot((y_train - y_train_cnt), bins = 20)\n",
    "fig.suptitle('Error Terms', fontsize = 20)                  # Plot heading \n",
    "plt.xlabel('Errors', fontsize = 18)                         # X-label"
   ]
  },
  {
   "cell_type": "markdown",
   "id": "7dba384a",
   "metadata": {},
   "source": [
    "- Errors are normally distributed is indicated by mean is 0 \n",
    "- Error terms are randomly distributed and there is no pattern which means the output is explained well by the model and there are no other parameters that can explain the model better."
   ]
  },
  {
   "cell_type": "markdown",
   "id": "8a89e0c5",
   "metadata": {},
   "source": [
    "#### INFERENCES ON ASSUMPTION\n",
    "All the 4 assumption are abided by the data"
   ]
  },
  {
   "cell_type": "markdown",
   "id": "f8615d4f",
   "metadata": {},
   "source": [
    "#### INTERPRETATION \n",
    " - The top 3 influence on the bike booking /demand \n",
    "    - temp : A coefficient value of 4794.5384  indicated that a unit increase in <b>temp</b> variable increases the bike demand by same number \n",
    "    - yr : A coefficient value of 2075.5328   indicated that a unit increase in <b>yr</b> variable increases the bike demand by same number \n",
    "    - season_winter : A coefficient value of 1022.4238    indicated that a unit increase in <b>season_winter</b>  variable increases the bike demand by same number "
   ]
  },
  {
   "cell_type": "markdown",
   "id": "1a7dd060",
   "metadata": {},
   "source": [
    "<b>NOTE:</b>\n",
    "\n",
    "- season- 1:\"spring\", 2:\"summer\", 3:\"fall\", 4:\"winter\"\n",
    "- mnth - 1: 'jan',2: 'feb',3: 'mar',4: 'apr',5: 'may',6: 'jun',7: 'jul',8: 'aug',9: 'sept',10: 'oct',11: 'nov',12: 'dec'\n",
    "- weekday - 0: 'sun',1: 'mon',2: 'tue',3: 'wed',4: 'thu',5: 'fri',6: 'sat'\n",
    "- weathersit -1:'good',2:'moderate',3:'bad',4:'severe'"
   ]
  }
 ],
 "metadata": {
  "kernelspec": {
   "display_name": "Python 3",
   "language": "python",
   "name": "python3"
  },
  "language_info": {
   "codemirror_mode": {
    "name": "ipython",
    "version": 3
   },
   "file_extension": ".py",
   "mimetype": "text/x-python",
   "name": "python",
   "nbconvert_exporter": "python",
   "pygments_lexer": "ipython3",
   "version": "3.8.8"
  }
 },
 "nbformat": 4,
 "nbformat_minor": 5
}
